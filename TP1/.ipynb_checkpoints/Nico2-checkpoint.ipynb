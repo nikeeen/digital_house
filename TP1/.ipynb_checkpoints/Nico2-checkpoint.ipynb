{
 "cells": [
  {
   "cell_type": "code",
   "execution_count": 252,
   "id": "b925ab55",
   "metadata": {},
   "outputs": [],
   "source": [
    "import numpy as np\n",
    "import pandas as pd\n",
    "import seaborn as sns\n",
    "import re"
   ]
  },
  {
   "cell_type": "code",
   "execution_count": 253,
   "id": "91592157",
   "metadata": {},
   "outputs": [],
   "source": [
    "data = pd.read_csv('../TP1/properatti.csv')\n",
    "data_cruda = pd.read_csv('../TP1/properatti.csv')"
   ]
  },
  {
   "cell_type": "markdown",
   "id": "87c91b17",
   "metadata": {},
   "source": [
    "## Para quedarnos solo con las columnas importantes"
   ]
  },
  {
   "cell_type": "markdown",
   "id": "8ac599b0",
   "metadata": {},
   "source": [
    "Nos quedamos solo con las columnas que aportan valor para estimar el precio del metro cuadrado"
   ]
  },
  {
   "cell_type": "code",
   "execution_count": 106,
   "id": "f498a5c6",
   "metadata": {},
   "outputs": [],
   "source": [
    "def eliminar_columnas(dataframe):\n",
    "    dataframe = dataframe.drop(columns=['Unnamed: 0','operation','place_name','place_with_parent_names','country_name','geonames_id','lat-lon','lat','lon','floor','expenses','properati_url','image_thumbnail'])\n",
    "    return dataframe"
   ]
  },
  {
   "cell_type": "code",
   "execution_count": 107,
   "id": "04c516bf",
   "metadata": {
    "scrolled": false
   },
   "outputs": [
    {
     "data": {
      "text/plain": [
       "Index(['property_type', 'state_name', 'price', 'currency',\n",
       "       'price_aprox_local_currency', 'price_aprox_usd', 'surface_total_in_m2',\n",
       "       'surface_covered_in_m2', 'price_usd_per_m2', 'price_per_m2', 'rooms',\n",
       "       'description', 'title'],\n",
       "      dtype='object')"
      ]
     },
     "execution_count": 107,
     "metadata": {},
     "output_type": "execute_result"
    }
   ],
   "source": [
    "data = eliminar_columnas(data)\n",
    "data.columns"
   ]
  },
  {
   "cell_type": "markdown",
   "id": "47220453",
   "metadata": {},
   "source": [
    "## Para quedarnos sólo con ARS y USD, eliminando los otros"
   ]
  },
  {
   "cell_type": "markdown",
   "id": "7e4d2328",
   "metadata": {},
   "source": [
    "Eliminamos las filas que tengan precios publicados en monedas que no sean pesos ni dolares"
   ]
  },
  {
   "cell_type": "code",
   "execution_count": 108,
   "id": "2936bb20",
   "metadata": {},
   "outputs": [],
   "source": [
    "def eliminar_otras_currency(dataframe):\n",
    "    mask_uyu = dataframe.currency == \"UYU\"\n",
    "    mask_pen = dataframe.currency == \"PEN\"\n",
    "    dataframe = dataframe.drop(data.currency[mask_uyu].index)\n",
    "    dataframe = dataframe.drop(data.currency[mask_pen].index)\n",
    "    return dataframe"
   ]
  },
  {
   "cell_type": "code",
   "execution_count": 109,
   "id": "c6dda2af",
   "metadata": {},
   "outputs": [
    {
     "data": {
      "text/plain": [
       "USD    87587\n",
       "ARS    13219\n",
       "Name: currency, dtype: int64"
      ]
     },
     "execution_count": 109,
     "metadata": {},
     "output_type": "execute_result"
    }
   ],
   "source": [
    "data = eliminar_otras_currency(data)\n",
    "data.currency.value_counts()"
   ]
  },
  {
   "cell_type": "markdown",
   "id": "1dfaee03",
   "metadata": {},
   "source": [
    "## Para quedarnos solo apartment y house"
   ]
  },
  {
   "cell_type": "markdown",
   "id": "84c9098f",
   "metadata": {},
   "source": [
    "Eliminamos las filas que no contengan apartment y house, debido a que los demás hay pocos registros en proporcion a los que hay en apartment y house"
   ]
  },
  {
   "cell_type": "code",
   "execution_count": 110,
   "id": "850b28f2",
   "metadata": {
    "scrolled": true
   },
   "outputs": [
    {
     "data": {
      "text/plain": [
       "apartment    71063\n",
       "house        40267\n",
       "PH            5751\n",
       "store         4136\n",
       "Name: property_type, dtype: int64"
      ]
     },
     "execution_count": 110,
     "metadata": {},
     "output_type": "execute_result"
    }
   ],
   "source": [
    "data.property_type.value_counts()"
   ]
  },
  {
   "cell_type": "code",
   "execution_count": 127,
   "id": "3b40dddc",
   "metadata": {},
   "outputs": [],
   "source": [
    "def eliminar_ph_y_store(dataframe):\n",
    "    dataframe = dataframe.drop(dataframe.loc[dataframe.property_type == 'PH'].index)\n",
    "    dataframe = dataframe.drop(dataframe.loc[dataframe.property_type == 'store'].index)\n",
    "    return dataframe"
   ]
  },
  {
   "cell_type": "code",
   "execution_count": 130,
   "id": "57ad4ca9",
   "metadata": {},
   "outputs": [
    {
     "data": {
      "text/plain": [
       "apartment    71063\n",
       "house        40267\n",
       "Name: property_type, dtype: int64"
      ]
     },
     "execution_count": 130,
     "metadata": {},
     "output_type": "execute_result"
    }
   ],
   "source": [
    "data = eliminar_ph_y_store(data)\n",
    "data.property_type.value_counts()"
   ]
  },
  {
   "cell_type": "markdown",
   "id": "5f2b2447",
   "metadata": {},
   "source": [
    "## Para quedarnos solo con >1000 publicaciones por ciudad"
   ]
  },
  {
   "cell_type": "markdown",
   "id": "03dfb713",
   "metadata": {},
   "source": [
    "Nos quedamos con los registros que pertenezcan a ciudades donde haya al menos mas de 1000 publicaciones ya que el resto no es un numero que estimamos suficiente para realizar una estimación adecuada"
   ]
  },
  {
   "cell_type": "code",
   "execution_count": 269,
   "id": "c81742e4",
   "metadata": {},
   "outputs": [],
   "source": [
    "def solo_mayores_a_mil(dataframe):\n",
    "    cantidad_de_publicaciones = 1000\n",
    "    lista = list((dataframe['state_name'].value_counts()>1000)[dataframe['state_name'].value_counts()>cantidad_de_publicaciones].index)\n",
    "    dataframe = dataframe[dataframe['state_name'].isin(lista)]\n",
    "    return dataframe"
   ]
  },
  {
   "cell_type": "code",
   "execution_count": 272,
   "id": "efdb8875",
   "metadata": {},
   "outputs": [
    {
     "data": {
      "text/plain": [
       "Capital Federal                 32316\n",
       "Bs.As. G.B.A. Zona Norte        25560\n",
       "Bs.As. G.B.A. Zona Sur          13952\n",
       "Córdoba                         12069\n",
       "Santa Fe                        10172\n",
       "Buenos Aires Costa Atlántica    10006\n",
       "Bs.As. G.B.A. Zona Oeste         9322\n",
       "Buenos Aires Interior            2291\n",
       "Name: state_name, dtype: int64"
      ]
     },
     "execution_count": 272,
     "metadata": {},
     "output_type": "execute_result"
    }
   ],
   "source": [
    "data = solo_mayores_a_mil(data)\n",
    "data.state_name.value_counts()"
   ]
  }
 ],
 "metadata": {
  "kernelspec": {
   "display_name": "Python [conda env:dhdsblend2021] *",
   "language": "python",
   "name": "conda-env-dhdsblend2021-py"
  },
  "language_info": {
   "codemirror_mode": {
    "name": "ipython",
    "version": 3
   },
   "file_extension": ".py",
   "mimetype": "text/x-python",
   "name": "python",
   "nbconvert_exporter": "python",
   "pygments_lexer": "ipython3",
   "version": "3.8.12"
  }
 },
 "nbformat": 4,
 "nbformat_minor": 5
}
