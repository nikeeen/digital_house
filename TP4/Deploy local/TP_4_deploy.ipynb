{
 "cells": [
  {
   "cell_type": "markdown",
   "id": "85a734ed",
   "metadata": {},
   "source": [
    "## Imports"
   ]
  },
  {
   "cell_type": "code",
   "execution_count": 45,
   "id": "a6f57d74",
   "metadata": {},
   "outputs": [],
   "source": [
    "#Tratamiento de datos\n",
    "import pandas as pd\n",
    "import numpy as np\n",
    "\n",
    "#Visualización de datos\n",
    "import matplotlib.pyplot as plt\n",
    "import seaborn as sns\n",
    "from xgboost import plot_importance\n",
    "#from matplotlib import rcParams\n",
    "\n",
    "#Análisis, modelado, predicción y métricas\n",
    "from sklearn.model_selection import train_test_split\n",
    "from xgboost.sklearn import XGBRegressor\n",
    "from statsmodels.tsa.arima_model import ARIMA\n",
    "from statsmodels.tsa.stattools import adfuller\n",
    "import statsmodels.api as sm\n",
    "import statsmodels.tsa.api as smt\n",
    "\n",
    "import pickle\n",
    "from sklearn.pipeline import Pipeline\n",
    "from sklearn.base import BaseEstimator, TransformerMixin\n",
    "\n",
    "#import statsmodels.api as smz\n",
    "#import statsmodels.formula.api as smf\n",
    "#from sklearn.metrics import r2_score\n",
    "#from statsmodels.tsa.holtwinters import SimpleExpSmoothing\n",
    "#from sklearn.model_selection import TimeSeriesSplit \n",
    "#from sklearn.metrics import mean_squared_error\n",
    "#from sklearn.model_selection import GridSearchCV\n",
    "#from sklearn.model_selection import StratifiedKFold\n",
    "#import lightgbm as lgb\n",
    "#from statsmodels.tsa.stattools import acf, pacf\n",
    "#from statsmodels.graphics.tsaplots import plot_acf, plot_pacf\n",
    "#import statsmodels.formula.api as smf\n",
    "\n",
    "\n",
    "#Quitar warnings\n",
    "import warnings\n",
    "warnings.filterwarnings('ignore')"
   ]
  },
  {
   "cell_type": "code",
   "execution_count": null,
   "id": "d2b039ff",
   "metadata": {},
   "outputs": [],
   "source": []
  },
  {
   "cell_type": "code",
   "execution_count": 46,
   "id": "bb8cb8d6",
   "metadata": {},
   "outputs": [],
   "source": [
    "#pip install xgboost"
   ]
  },
  {
   "cell_type": "code",
   "execution_count": 47,
   "id": "6a29940e",
   "metadata": {},
   "outputs": [],
   "source": [
    "#!pip install openpyxl==3.0.10"
   ]
  },
  {
   "cell_type": "markdown",
   "id": "e4ab950a",
   "metadata": {},
   "source": [
    "## Data preparation"
   ]
  },
  {
   "cell_type": "code",
   "execution_count": 48,
   "id": "bcd11392",
   "metadata": {},
   "outputs": [],
   "source": [
    "#Leemos el archivo y miramos las primeras cinco filas del dataset\n",
    "data = pd.read_excel('../TP4/datos.xlsx', engine='openpyxl')"
   ]
  },
  {
   "cell_type": "code",
   "execution_count": 49,
   "id": "b62ef513",
   "metadata": {},
   "outputs": [],
   "source": [
    "# en el caso que cargue los NaN ejecutar el dropna\n",
    "data = data.dropna()"
   ]
  },
  {
   "cell_type": "code",
   "execution_count": 50,
   "id": "8e5a3a76",
   "metadata": {},
   "outputs": [],
   "source": [
    "#Armamos una lista con los nuevos nombres de las columnas\n",
    "columnas = [\"año\", \"mes\", \"numero_mes\", \"estacion\", \"semana\", \"fecha\", \"tipo_dia\", \"dia\", \\\n",
    "            \"numero_dia\", \"energia_sadi\", \"potencia_pico\", \"hora_pico\", \"temp\", \"estado_tiempo\" ]\n",
    "\n",
    "#Asignamos el nuevo nombre\n",
    "data.columns = columnas"
   ]
  },
  {
   "cell_type": "code",
   "execution_count": 51,
   "id": "94d3ad01",
   "metadata": {},
   "outputs": [],
   "source": [
    "data['nueva_estacion'] = data['estacion']"
   ]
  },
  {
   "cell_type": "code",
   "execution_count": 52,
   "id": "855cfb69",
   "metadata": {},
   "outputs": [],
   "source": [
    "#creación de estaciones PRIMAVERA y OTOÑO\n",
    "mask_otoño = ((data['fecha'] > '2007-03-20 00:00:00') & (data['fecha'] < '2007-06-22 00:00:00') | \\\n",
    "              (data['fecha'] > '2008-03-20 00:00:00') & (data['fecha'] < '2008-06-22 00:00:00') | \\\n",
    "              (data['fecha'] > '2009-03-20 00:00:00') & (data['fecha'] < '2009-06-22 00:00:00') | \\\n",
    "              (data['fecha'] > '2010-03-20 00:00:00') & (data['fecha'] < '2010-06-22 00:00:00') | \\\n",
    "              (data['fecha'] > '2011-03-20 00:00:00') & (data['fecha'] < '2011-06-22 00:00:00') | \\\n",
    "              (data['fecha'] > '2012-03-20 00:00:00') & (data['fecha'] < '2012-06-22 00:00:00') | \\\n",
    "              (data['fecha'] > '2013-03-20 00:00:00') & (data['fecha'] < '2013-06-22 00:00:00') | \\\n",
    "              (data['fecha'] > '2014-03-20 00:00:00') & (data['fecha'] < '2014-06-22 00:00:00') | \\\n",
    "              (data['fecha'] > '2015-03-20 00:00:00') & (data['fecha'] < '2015-06-22 00:00:00') | \\\n",
    "              (data['fecha'] > '2016-03-20 00:00:00') & (data['fecha'] < '2016-06-22 00:00:00') | \\\n",
    "              (data['fecha'] > '2017-03-20 00:00:00') & (data['fecha'] < '2017-06-22 00:00:00') | \\\n",
    "              (data['fecha'] > '2018-03-20 00:00:00') & (data['fecha'] < '2018-06-22 00:00:00') | \\\n",
    "              (data['fecha'] > '2019-03-20 00:00:00') & (data['fecha'] < '2019-06-22 00:00:00') | \\\n",
    "              (data['fecha'] > '2020-03-20 00:00:00') & (data['fecha'] < '2020-06-22 00:00:00') | \\\n",
    "              (data['fecha'] > '2021-03-20 00:00:00') & (data['fecha'] < '2021-06-22 00:00:00') | \\\n",
    "              (data['fecha'] > '2022-03-20 00:00:00') & (data['fecha'] < '2022-06-22 00:00:00'))\n",
    "\n",
    "data.loc[mask_otoño,'nueva_estacion'] = 'OTOÑO'"
   ]
  },
  {
   "cell_type": "code",
   "execution_count": 53,
   "id": "a7e75934",
   "metadata": {},
   "outputs": [],
   "source": [
    "mask_primavera = ((data['fecha'] > '2007-09-21 00:00:00') & (data['fecha'] < '2007-12-22 00:00:00') | \\\n",
    "                 (data['fecha'] > '2008-09-21 00:00:00') & (data['fecha'] < '2008-12-22 00:00:00') | \\\n",
    "                 (data['fecha'] > '2009-09-21 00:00:00') & (data['fecha'] < '2009-12-22 00:00:00') | \\\n",
    "                 (data['fecha'] > '2010-09-21 00:00:00') & (data['fecha'] < '2010-12-22 00:00:00') | \\\n",
    "                 (data['fecha'] > '2011-09-21 00:00:00') & (data['fecha'] < '2011-12-22 00:00:00') | \\\n",
    "                 (data['fecha'] > '2012-09-21 00:00:00') & (data['fecha'] < '2012-12-22 00:00:00') | \\\n",
    "                 (data['fecha'] > '2013-09-21 00:00:00') & (data['fecha'] < '2013-12-22 00:00:00') | \\\n",
    "                 (data['fecha'] > '2014-09-21 00:00:00') & (data['fecha'] < '2014-12-22 00:00:00') | \\\n",
    "                 (data['fecha'] > '2015-09-21 00:00:00') & (data['fecha'] < '2015-12-22 00:00:00') | \\\n",
    "                 (data['fecha'] > '2016-09-21 00:00:00') & (data['fecha'] < '2016-12-22 00:00:00') | \\\n",
    "                 (data['fecha'] > '2017-09-21 00:00:00') & (data['fecha'] < '2017-12-22 00:00:00') | \\\n",
    "                 (data['fecha'] > '2018-09-21 00:00:00') & (data['fecha'] < '2018-12-22 00:00:00') | \\\n",
    "                 (data['fecha'] > '2019-09-21 00:00:00') & (data['fecha'] < '2019-12-22 00:00:00') | \\\n",
    "                 (data['fecha'] > '2020-09-21 00:00:00') & (data['fecha'] < '2020-12-22 00:00:00') | \\\n",
    "                 (data['fecha'] > '2021-09-21 00:00:00') & (data['fecha'] < '2021-12-22 00:00:00') | \\\n",
    "                 (data['fecha'] > '2022-09-21 00:00:00') & (data['fecha'] < '2022-12-22 00:00:00'))\n",
    "\n",
    "data.loc[mask_primavera,'nueva_estacion'] = 'PRIMAVERA'"
   ]
  },
  {
   "cell_type": "code",
   "execution_count": 54,
   "id": "498325a8",
   "metadata": {},
   "outputs": [],
   "source": [
    "#paso toda la columna a minúsculas para mayor comodidad de trabajo\n",
    "data['nueva_estacion'] = data['nueva_estacion'].str.lower()"
   ]
  },
  {
   "cell_type": "code",
   "execution_count": 55,
   "id": "fd410542",
   "metadata": {},
   "outputs": [],
   "source": [
    "#Cambiamos el índice del Dataframe usando el método PeriodIndex de pandas y ponemos frecuencia diaria.\n",
    "data.index=pd.PeriodIndex(data.fecha,  freq='D')"
   ]
  },
  {
   "cell_type": "code",
   "execution_count": 56,
   "id": "4c675c67",
   "metadata": {},
   "outputs": [],
   "source": [
    "#Generamos la variable 'timeindex' como variable dummy de tiempo\n",
    "data['timeindex'] = pd.Series(np.arange(len(data.energia_sadi)), index=data.index)"
   ]
  },
  {
   "cell_type": "code",
   "execution_count": 57,
   "id": "21be7a46",
   "metadata": {
    "scrolled": true
   },
   "outputs": [],
   "source": [
    "#Vamos a convertir los meses en dummies con el método get_dummies\n",
    "#Aplicamos drop_first= True para envitar la colinealidad entre variables.\n",
    "\n",
    "#las siguientes dos fueron agregadas porque en linux no me toma el integer de una, sino que las toma como float\n",
    "#comentar en el caso que no sean necesarias\n",
    "data['numero_mes'] = data['numero_mes'].astype(int)\n",
    "data['numero_mes'] = data['numero_mes'].astype(str)\n",
    "\n",
    "\n",
    "data_dummie_mes =pd.get_dummies(data['numero_mes'], prefix='mes', drop_first=True)   \n",
    "\n",
    "\n",
    "#Vamos a convertir el resto de las variables categóricas en dummies.\n",
    "data_dummies=pd.get_dummies(data[['tipo_dia', 'dia', 'estado_tiempo', 'nueva_estacion']], drop_first=True )\n",
    "\n",
    "#Unimos los dos dataframes de dummies y el que teniamos originalmente\n",
    "data_dm=data_dummie_mes.join(data_dummies)\n",
    "data=data.join(data_dm)"
   ]
  },
  {
   "cell_type": "code",
   "execution_count": 58,
   "id": "f3eed532",
   "metadata": {},
   "outputs": [],
   "source": [
    "data.rename(columns = {'fecha':'date'}, inplace = True)"
   ]
  },
  {
   "cell_type": "code",
   "execution_count": 59,
   "id": "fb5719c1",
   "metadata": {},
   "outputs": [],
   "source": [
    "#Separamos en train y test para que solo tome las features necesarias.\n",
    "\n",
    "x_train = data.drop(['año', 'mes', 'numero_mes', 'estacion', 'semana', 'date', 'tipo_dia',\n",
    "       'dia', 'numero_dia', 'energia_sadi', 'potencia_pico', 'hora_pico','estado_tiempo', 'nueva_estacion','tipo_dia_FERIADO','dia_Jueves', 'dia_Lunes', 'dia_Martes',\n",
    "       'dia_Miércoles', 'dia_Sábado', 'dia_Viernes'], axis=1)\n",
    "y_train=data.energia_sadi"
   ]
  },
  {
   "cell_type": "code",
   "execution_count": 60,
   "id": "9d041392",
   "metadata": {},
   "outputs": [],
   "source": [
    "nuevas_col = ['temp', 'timeindex', 'mes_10', 'mes_11', 'mes_12', 'mes_2', 'mes_3', \\\n",
    "       'mes_4', 'mes_5', 'mes_6', 'mes_7', 'mes_8', 'mes_9', 'tipo_dia_habil', \\\n",
    "       'tipo_dia_sabado', 'estado_tiempo_N', 'estado_tiempo_SN', \\\n",
    "       'nueva_estacion_otono', 'nueva_estacion_primavera',\\\n",
    "       'nueva_estacion_verano']"
   ]
  },
  {
   "cell_type": "code",
   "execution_count": 61,
   "id": "717f596b",
   "metadata": {},
   "outputs": [],
   "source": [
    "x_train.columns = nuevas_col"
   ]
  },
  {
   "cell_type": "code",
   "execution_count": null,
   "id": "ecba7232",
   "metadata": {},
   "outputs": [],
   "source": []
  },
  {
   "cell_type": "code",
   "execution_count": 62,
   "id": "fcbcf05f",
   "metadata": {},
   "outputs": [
    {
     "data": {
      "text/plain": [
       "Index(['temp', 'timeindex', 'mes_10', 'mes_11', 'mes_12', 'mes_2', 'mes_3',\n",
       "       'mes_4', 'mes_5', 'mes_6', 'mes_7', 'mes_8', 'mes_9', 'tipo_dia_habil',\n",
       "       'tipo_dia_sabado', 'estado_tiempo_N', 'estado_tiempo_SN',\n",
       "       'nueva_estacion_otono', 'nueva_estacion_primavera',\n",
       "       'nueva_estacion_verano'],\n",
       "      dtype='object')"
      ]
     },
     "execution_count": 62,
     "metadata": {},
     "output_type": "execute_result"
    }
   ],
   "source": [
    "x_train.columns"
   ]
  },
  {
   "cell_type": "markdown",
   "id": "d240a056",
   "metadata": {},
   "source": [
    "## Data Modeling"
   ]
  },
  {
   "cell_type": "code",
   "execution_count": 63,
   "id": "039693ee",
   "metadata": {},
   "outputs": [],
   "source": [
    "#Instanciamos el modelo\n",
    "xgb_regressor = XGBRegressor()"
   ]
  },
  {
   "cell_type": "code",
   "execution_count": 64,
   "id": "fc8496c7",
   "metadata": {},
   "outputs": [],
   "source": [
    "#Entrenamos el modelo\n",
    "xgb_regressor = xgb_regressor.fit(x_train,y_train)"
   ]
  },
  {
   "cell_type": "code",
   "execution_count": 65,
   "id": "cbfcf98c",
   "metadata": {},
   "outputs": [],
   "source": [
    "#Hacemos las predicciones\n",
    "y_predict = xgb_regressor.predict(x_train)"
   ]
  },
  {
   "cell_type": "code",
   "execution_count": null,
   "id": "d2447566",
   "metadata": {},
   "outputs": [],
   "source": []
  },
  {
   "cell_type": "code",
   "execution_count": null,
   "id": "b936f012",
   "metadata": {},
   "outputs": [],
   "source": []
  },
  {
   "cell_type": "code",
   "execution_count": null,
   "id": "843748dd",
   "metadata": {},
   "outputs": [],
   "source": []
  },
  {
   "cell_type": "code",
   "execution_count": 66,
   "id": "2a337253",
   "metadata": {},
   "outputs": [],
   "source": [
    "#Obtengo los residuos entre el dato real y el dato del modelo XGBoost\n",
    "residuos = y_train - y_predict"
   ]
  },
  {
   "cell_type": "code",
   "execution_count": 67,
   "id": "f0bc857d",
   "metadata": {},
   "outputs": [
    {
     "name": "stdout",
     "output_type": "stream",
     "text": [
      "RUNNING THE L-BFGS-B CODE\n",
      "\n",
      "           * * *\n",
      "\n",
      "Machine precision = 2.220D-16\n",
      " N =            3     M =           12\n",
      "\n",
      "At X0         0 variables are exactly at the bounds\n",
      "\n",
      "At iterate    0    f=  3.36392D+00    |proj g|=  2.38476D-05\n",
      "\n",
      "At iterate    5    f=  3.36392D+00    |proj g|=  7.32747D-06\n",
      "\n",
      "At iterate   10    f=  3.36392D+00    |proj g|=  1.33227D-07\n",
      "\n",
      "           * * *\n",
      "\n",
      "Tit   = total number of iterations\n",
      "Tnf   = total number of function evaluations\n",
      "Tnint = total number of segments explored during Cauchy searches\n",
      "Skip  = number of BFGS updates skipped\n",
      "Nact  = number of active bounds at final generalized Cauchy point\n",
      "Projg = norm of the final projected gradient\n",
      "F     = final function value\n",
      "\n",
      "           * * *\n",
      "\n",
      "   N    Tit     Tnf  Tnint  Skip  Nact     Projg        F\n",
      "    3     12     16      1     0     0   0.000D+00   3.364D+00\n",
      "  F =   3.3639240395605956     \n",
      "\n",
      "CONVERGENCE: NORM_OF_PROJECTED_GRADIENT_<=_PGTOL            \n"
     ]
    },
    {
     "name": "stderr",
     "output_type": "stream",
     "text": [
      " This problem is unconstrained.\n"
     ]
    },
    {
     "data": {
      "text/plain": [
       "fecha\n",
       "2007-01-01    0.000838\n",
       "2007-01-02    0.335467\n",
       "2007-01-03   -0.430207\n",
       "2007-01-04   -0.314191\n",
       "2007-01-05    0.337826\n",
       "Freq: D, dtype: float64"
      ]
     },
     "execution_count": 67,
     "metadata": {},
     "output_type": "execute_result"
    }
   ],
   "source": [
    "model_ARIMA = ARIMA(residuos, order=(1,0,1))\n",
    "\n",
    "# Estimo el modelo:\n",
    "results_ARIMA = model_ARIMA.fit()\n",
    "results_ARIMA.fittedvalues.head()"
   ]
  },
  {
   "cell_type": "code",
   "execution_count": 68,
   "id": "9eb8be28",
   "metadata": {},
   "outputs": [],
   "source": [
    "res_ARIMA =  results_ARIMA.fittedvalues - residuos"
   ]
  },
  {
   "cell_type": "code",
   "execution_count": 69,
   "id": "549e8d01",
   "metadata": {
    "scrolled": true
   },
   "outputs": [],
   "source": [
    "predictions_ARIMA, se, conf = results_ARIMA.forecast(len(y_train), alpha=0.05)"
   ]
  },
  {
   "cell_type": "code",
   "execution_count": 70,
   "id": "edc755e2",
   "metadata": {},
   "outputs": [],
   "source": [
    "xgboost_arima = y_predict + results_ARIMA.fittedvalues"
   ]
  },
  {
   "cell_type": "code",
   "execution_count": 71,
   "id": "68b9ba58",
   "metadata": {},
   "outputs": [],
   "source": [
    "def RMSE(predichos, observados):\n",
    "    mse = (predichos - observados) ** 2\n",
    "    rmse = np.sqrt(mse.sum() / mse.count())\n",
    "    return rmse"
   ]
  },
  {
   "cell_type": "code",
   "execution_count": 72,
   "id": "6be83d4a",
   "metadata": {
    "scrolled": true
   },
   "outputs": [
    {
     "data": {
      "text/plain": [
       "7.178049046598337"
      ]
     },
     "execution_count": 72,
     "metadata": {},
     "output_type": "execute_result"
    }
   ],
   "source": [
    "#Calculamos el RMSE en Train con ARIMA\n",
    "RMSE(y_train, y_predict)"
   ]
  },
  {
   "cell_type": "code",
   "execution_count": null,
   "id": "8c60bf30",
   "metadata": {},
   "outputs": [],
   "source": []
  },
  {
   "cell_type": "code",
   "execution_count": null,
   "id": "80e556cd",
   "metadata": {},
   "outputs": [],
   "source": []
  },
  {
   "cell_type": "code",
   "execution_count": null,
   "id": "83c52feb",
   "metadata": {},
   "outputs": [],
   "source": []
  },
  {
   "cell_type": "code",
   "execution_count": 73,
   "id": "9751969a",
   "metadata": {},
   "outputs": [],
   "source": [
    "pipe = Pipeline([('xgboost', XGBRegressor())])"
   ]
  },
  {
   "cell_type": "code",
   "execution_count": 74,
   "id": "381c5d9a",
   "metadata": {},
   "outputs": [
    {
     "data": {
      "text/plain": [
       "Pipeline(steps=[('xgboost',\n",
       "                 XGBRegressor(base_score=0.5, booster='gbtree',\n",
       "                              colsample_bylevel=1, colsample_bynode=1,\n",
       "                              colsample_bytree=1, enable_categorical=False,\n",
       "                              gamma=0, gpu_id=-1, importance_type=None,\n",
       "                              interaction_constraints='',\n",
       "                              learning_rate=0.300000012, max_delta_step=0,\n",
       "                              max_depth=6, min_child_weight=1, missing=nan,\n",
       "                              monotone_constraints='()', n_estimators=100,\n",
       "                              n_jobs=12, num_parallel_tree=1, predictor='auto',\n",
       "                              random_state=0, reg_alpha=0, reg_lambda=1,\n",
       "                              scale_pos_weight=1, subsample=1,\n",
       "                              tree_method='exact', validate_parameters=1,\n",
       "                              verbosity=None))])"
      ]
     },
     "execution_count": 74,
     "metadata": {},
     "output_type": "execute_result"
    }
   ],
   "source": [
    "pipe.fit(x_train, y_train)"
   ]
  },
  {
   "cell_type": "code",
   "execution_count": 76,
   "id": "78f513af",
   "metadata": {},
   "outputs": [],
   "source": [
    "with open (\"modelo_entrenado.pkl\", \"wb\") as model:\n",
    "    pickle.dump(pipe, model)"
   ]
  },
  {
   "cell_type": "code",
   "execution_count": null,
   "id": "ba77600d",
   "metadata": {},
   "outputs": [],
   "source": []
  },
  {
   "cell_type": "code",
   "execution_count": null,
   "id": "eec73270",
   "metadata": {},
   "outputs": [],
   "source": []
  },
  {
   "cell_type": "code",
   "execution_count": 77,
   "id": "af02fa4d",
   "metadata": {},
   "outputs": [],
   "source": [
    "prueba = pd.DataFrame({'temp': [19.8], 'timeindex': [4685], 'mes_10': [1], 'mes_11': [0], 'mes_12': [0], \\\n",
    "              'mes_2': [0], 'mes_3': [0], 'mes_4': [0], 'mes_5': [0], 'mes_6': [0], 'mes_7': [0], \\\n",
    "              'mes_8': [0], 'mes_9': [0], 'tipo_dia_HÁBIL': [1], 'tipo_dia_SÁBADO': [0], \\\n",
    "              'estado_tiempo_N': [1], 'estado_tiempo_SN': [0], 'nueva_estacion_otoño': [0], \\\n",
    "              'nueva_estacion_primavera': [1], 'nueva_estacion_verano':[0]})"
   ]
  },
  {
   "cell_type": "code",
   "execution_count": null,
   "id": "02343076",
   "metadata": {},
   "outputs": [],
   "source": []
  },
  {
   "cell_type": "code",
   "execution_count": 78,
   "id": "3313110f",
   "metadata": {},
   "outputs": [],
   "source": [
    "with open('modelo_entrenado.pkl','rb') as f:\n",
    "    regressor = pickle.load(f)"
   ]
  },
  {
   "cell_type": "code",
   "execution_count": null,
   "id": "d75667ec",
   "metadata": {},
   "outputs": [],
   "source": []
  },
  {
   "cell_type": "code",
   "execution_count": 80,
   "id": "9eb4c816",
   "metadata": {},
   "outputs": [
    {
     "data": {
      "text/plain": [
       "374.71207"
      ]
     },
     "execution_count": 80,
     "metadata": {},
     "output_type": "execute_result"
    }
   ],
   "source": [
    "regressor.predict(prueba)[0]"
   ]
  },
  {
   "cell_type": "code",
   "execution_count": null,
   "id": "3cb4e2d7",
   "metadata": {},
   "outputs": [],
   "source": []
  }
 ],
 "metadata": {
  "kernelspec": {
   "display_name": "Python [conda env:dhdsblend2021] *",
   "language": "python",
   "name": "conda-env-dhdsblend2021-py"
  },
  "language_info": {
   "codemirror_mode": {
    "name": "ipython",
    "version": 3
   },
   "file_extension": ".py",
   "mimetype": "text/x-python",
   "name": "python",
   "nbconvert_exporter": "python",
   "pygments_lexer": "ipython3",
   "version": "3.8.13"
  }
 },
 "nbformat": 4,
 "nbformat_minor": 5
}
