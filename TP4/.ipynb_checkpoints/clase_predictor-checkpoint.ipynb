{
 "cells": [
  {
   "cell_type": "code",
   "execution_count": 41,
   "id": "d510d713",
   "metadata": {},
   "outputs": [],
   "source": [
    "#Tratamiento de datos\n",
    "import pandas as pd\n",
    "import numpy as np\n",
    "\n",
    "#Visualización de datos\n",
    "import matplotlib.pyplot as plt\n",
    "import seaborn as sns\n",
    "from xgboost import plot_importance\n",
    "#from matplotlib import rcParams\n",
    "\n",
    "#Análisis, modelado, predicción y métricas\n",
    "from sklearn.model_selection import train_test_split\n",
    "from xgboost.sklearn import XGBRegressor\n",
    "from statsmodels.tsa.arima_model import ARIMA\n",
    "from statsmodels.tsa.stattools import adfuller\n",
    "import statsmodels.api as sm\n",
    "import statsmodels.tsa.api as smt\n",
    "\n",
    "import pickle\n",
    "from sklearn.pipeline import Pipeline\n",
    "from sklearn.base import BaseEstimator, TransformerMixin\n"
   ]
  },
  {
   "cell_type": "code",
   "execution_count": 42,
   "id": "64513ffd",
   "metadata": {},
   "outputs": [],
   "source": [
    "class MyModel():\n",
    "    def __init__(self, model_path:str=\"modelo_entrenado.pkl\"):\n",
    "        with open(model_path, 'rb') as handle:\n",
    "            self.model = pickle.load(handle)\n",
    "            \n",
    "    def predict(self, array):\n",
    "        label = self.model.predict(array)[0]\n",
    "        return(label)\n",
    "                                         "
   ]
  },
  {
   "cell_type": "code",
   "execution_count": 45,
   "id": "ae77e30a",
   "metadata": {},
   "outputs": [],
   "source": [
    "regressor = MyModel()"
   ]
  },
  {
   "cell_type": "code",
   "execution_count": null,
   "id": "7bb75400",
   "metadata": {},
   "outputs": [],
   "source": []
  },
  {
   "cell_type": "code",
   "execution_count": null,
   "id": "0ec47859",
   "metadata": {},
   "outputs": [],
   "source": []
  },
  {
   "cell_type": "code",
   "execution_count": 15,
   "id": "94026c9b",
   "metadata": {},
   "outputs": [],
   "source": [
    "prueba = pd.DataFrame({'temp': [19.8], 'timeindex': [4685], 'mes_10': [1], 'mes_11': [0], 'mes_12': [0], \\\n",
    "              'mes_2': [0], 'mes_3': [0], 'mes_4': [0], 'mes_5': [0], 'mes_6': [0], 'mes_7': [0], \\\n",
    "              'mes_8': [0], 'mes_9': [0], 'tipo_dia_HÁBIL': [1], 'tipo_dia_SÁBADO': [0], \\\n",
    "              'estado_tiempo_N': [1], 'estado_tiempo_SN': [0], 'nueva_estacion_otoño': [0], \\\n",
    "              'nueva_estacion_primavera': [1], 'nueva_estacion_verano':[0]})"
   ]
  },
  {
   "cell_type": "code",
   "execution_count": 16,
   "id": "48de3e5c",
   "metadata": {
    "scrolled": true
   },
   "outputs": [
    {
     "data": {
      "text/plain": [
       "374.71207"
      ]
     },
     "execution_count": 16,
     "metadata": {},
     "output_type": "execute_result"
    }
   ],
   "source": [
    "mymodel.predict(prueba)"
   ]
  },
  {
   "cell_type": "code",
   "execution_count": 12,
   "id": "0c151d31",
   "metadata": {},
   "outputs": [],
   "source": [
    "temp = [19.8]\n",
    "timeindex =  [4685]\n",
    "mes_10 =  [1]\n",
    "mes_11 =  [0]\n",
    "mes_12 =  [0]\n",
    "mes_2 =  [0]\n",
    "mes_3 =  [0]\n",
    "mes_4 =  [0]\n",
    "mes_5 =  [0]\n",
    "mes_6 =  [0]\n",
    "mes_7 =  [0]\n",
    "mes_8 =  [0]\n",
    "mes_9 =  [0]\n",
    "tipo_dia_HÁBIL =  [1]\n",
    "tipo_dia_SÁBADO =  [0]\n",
    "estado_tiempo_N =  [1]\n",
    "estado_tiempo_SN =  [0]\n",
    "nueva_estacion_otoño =  [0]\n",
    "nueva_estacion_primavera =  [1]\n",
    "nueva_estacion_verano = [0]"
   ]
  },
  {
   "cell_type": "code",
   "execution_count": null,
   "id": "80ffca0d",
   "metadata": {},
   "outputs": [],
   "source": []
  },
  {
   "cell_type": "code",
   "execution_count": 13,
   "id": "26ce5be2",
   "metadata": {
    "scrolled": true
   },
   "outputs": [
    {
     "data": {
      "text/html": [
       "<div>\n",
       "<style scoped>\n",
       "    .dataframe tbody tr th:only-of-type {\n",
       "        vertical-align: middle;\n",
       "    }\n",
       "\n",
       "    .dataframe tbody tr th {\n",
       "        vertical-align: top;\n",
       "    }\n",
       "\n",
       "    .dataframe thead th {\n",
       "        text-align: right;\n",
       "    }\n",
       "</style>\n",
       "<table border=\"1\" class=\"dataframe\">\n",
       "  <thead>\n",
       "    <tr style=\"text-align: right;\">\n",
       "      <th></th>\n",
       "      <th>temp</th>\n",
       "      <th>timeindex</th>\n",
       "      <th>mes_10</th>\n",
       "      <th>mes_11</th>\n",
       "      <th>mes_12</th>\n",
       "      <th>mes_2</th>\n",
       "      <th>mes_3</th>\n",
       "      <th>mes_4</th>\n",
       "      <th>mes_5</th>\n",
       "      <th>mes_6</th>\n",
       "      <th>mes_7</th>\n",
       "      <th>mes_8</th>\n",
       "      <th>mes_9</th>\n",
       "      <th>tipo_dia_HÁBIL</th>\n",
       "      <th>tipo_dia_SÁBADO</th>\n",
       "      <th>estado_tiempo_N</th>\n",
       "      <th>estado_tiempo_SN</th>\n",
       "      <th>nueva_estacion_otoño</th>\n",
       "      <th>nueva_estacion_primavera</th>\n",
       "      <th>nueva_estacion_verano</th>\n",
       "    </tr>\n",
       "  </thead>\n",
       "  <tbody>\n",
       "    <tr>\n",
       "      <th>0</th>\n",
       "      <td>19.8</td>\n",
       "      <td>4685</td>\n",
       "      <td>1</td>\n",
       "      <td>0</td>\n",
       "      <td>0</td>\n",
       "      <td>0</td>\n",
       "      <td>0</td>\n",
       "      <td>0</td>\n",
       "      <td>0</td>\n",
       "      <td>0</td>\n",
       "      <td>0</td>\n",
       "      <td>0</td>\n",
       "      <td>0</td>\n",
       "      <td>1</td>\n",
       "      <td>0</td>\n",
       "      <td>1</td>\n",
       "      <td>0</td>\n",
       "      <td>0</td>\n",
       "      <td>1</td>\n",
       "      <td>0</td>\n",
       "    </tr>\n",
       "  </tbody>\n",
       "</table>\n",
       "</div>"
      ],
      "text/plain": [
       "   temp  timeindex  mes_10  mes_11  mes_12  mes_2  mes_3  mes_4  mes_5  mes_6  \\\n",
       "0  19.8       4685       1       0       0      0      0      0      0      0   \n",
       "\n",
       "   mes_7  mes_8  mes_9  tipo_dia_HÁBIL  tipo_dia_SÁBADO  estado_tiempo_N  \\\n",
       "0      0      0      0               1                0                1   \n",
       "\n",
       "   estado_tiempo_SN  nueva_estacion_otoño  nueva_estacion_primavera  \\\n",
       "0                 0                     0                         1   \n",
       "\n",
       "   nueva_estacion_verano  \n",
       "0                      0  "
      ]
     },
     "execution_count": 13,
     "metadata": {},
     "output_type": "execute_result"
    }
   ],
   "source": [
    " pd.DataFrame({'temp': temp, 'timeindex': timeindex, 'mes_10': mes_10, 'mes_11': mes_11, 'mes_12': mes_12, 'mes_2': mes_2, 'mes_3': mes_3, 'mes_4': mes_4, 'mes_5': mes_5, 'mes_6': mes_6, 'mes_7': mes_7, 'mes_8': mes_8, 'mes_9': mes_9, 'tipo_dia_HÁBIL': tipo_dia_HÁBIL, 'tipo_dia_SÁBADO': tipo_dia_SÁBADO, 'estado_tiempo_N': estado_tiempo_N, 'estado_tiempo_SN': estado_tiempo_SN, 'nueva_estacion_otoño': nueva_estacion_otoño, 'nueva_estacion_primavera': nueva_estacion_primavera, 'nueva_estacion_verano':nueva_estacion_verano}) "
   ]
  },
  {
   "cell_type": "code",
   "execution_count": null,
   "id": "9898e15a",
   "metadata": {},
   "outputs": [],
   "source": []
  },
  {
   "cell_type": "code",
   "execution_count": null,
   "id": "5a59bb6e",
   "metadata": {},
   "outputs": [],
   "source": []
  },
  {
   "cell_type": "code",
   "execution_count": null,
   "id": "293eec41",
   "metadata": {},
   "outputs": [],
   "source": []
  },
  {
   "cell_type": "code",
   "execution_count": null,
   "id": "9ba2f440",
   "metadata": {},
   "outputs": [],
   "source": []
  },
  {
   "cell_type": "code",
   "execution_count": null,
   "id": "3d05084a",
   "metadata": {},
   "outputs": [],
   "source": []
  },
  {
   "cell_type": "code",
   "execution_count": null,
   "id": "10f3260b",
   "metadata": {},
   "outputs": [],
   "source": []
  },
  {
   "cell_type": "code",
   "execution_count": null,
   "id": "46e71661",
   "metadata": {},
   "outputs": [],
   "source": []
  },
  {
   "cell_type": "code",
   "execution_count": null,
   "id": "0492ce1e",
   "metadata": {},
   "outputs": [],
   "source": []
  },
  {
   "cell_type": "code",
   "execution_count": null,
   "id": "828a6188",
   "metadata": {},
   "outputs": [],
   "source": []
  },
  {
   "cell_type": "code",
   "execution_count": null,
   "id": "d813348c",
   "metadata": {},
   "outputs": [],
   "source": []
  },
  {
   "cell_type": "code",
   "execution_count": null,
   "id": "df9b3753",
   "metadata": {},
   "outputs": [],
   "source": []
  },
  {
   "cell_type": "code",
   "execution_count": null,
   "id": "56fb477f",
   "metadata": {},
   "outputs": [],
   "source": []
  },
  {
   "cell_type": "code",
   "execution_count": null,
   "id": "2d97091c",
   "metadata": {},
   "outputs": [],
   "source": []
  },
  {
   "cell_type": "code",
   "execution_count": null,
   "id": "6c408141",
   "metadata": {},
   "outputs": [],
   "source": []
  },
  {
   "cell_type": "code",
   "execution_count": null,
   "id": "383fb7d1",
   "metadata": {},
   "outputs": [],
   "source": []
  },
  {
   "cell_type": "code",
   "execution_count": null,
   "id": "c5cef5da",
   "metadata": {},
   "outputs": [],
   "source": []
  },
  {
   "cell_type": "code",
   "execution_count": 61,
   "id": "900ce92c",
   "metadata": {},
   "outputs": [],
   "source": [
    "data = {\n",
    "  \"temp\": 0,\n",
    "  \"timeindex\": 0,\n",
    "  \"mes_10\": 0,\n",
    "  \"mes_11\": 0,\n",
    "  \"mes_12\": 0,\n",
    "  \"mes_2\": 0,\n",
    "  \"mes_3\": 0,\n",
    "  \"mes_4\": 0,\n",
    "  \"mes_5\": 0,\n",
    "  \"mes_6\": 0,\n",
    "  \"mes_7\": 0,\n",
    "  \"mes_8\": 0,\n",
    "  \"mes_9\": 0,\n",
    "  \"tipo_dia_HÁBIL\": 0,\n",
    "  \"tipo_dia_SÁBADO\": 0,\n",
    "  \"estado_tiempo_N\": 0,\n",
    "  \"estado_tiempo_SN\": 0,\n",
    "  \"nueva_estacion_otoño\": 0,\n",
    "  \"nueva_estacion_primavera\": 0,\n",
    "  \"nueva_estacion_verano\": 0\n",
    "}"
   ]
  },
  {
   "cell_type": "code",
   "execution_count": 62,
   "id": "f09ba028",
   "metadata": {},
   "outputs": [],
   "source": [
    "data = dict(data)\n",
    "data_pd = pd.DataFrame(data, index=[0])"
   ]
  },
  {
   "cell_type": "code",
   "execution_count": 63,
   "id": "59a2f4f5",
   "metadata": {},
   "outputs": [],
   "source": [
    "data_json = data_pd.to_json()"
   ]
  },
  {
   "cell_type": "code",
   "execution_count": null,
   "id": "389c18f6",
   "metadata": {},
   "outputs": [],
   "source": []
  },
  {
   "cell_type": "code",
   "execution_count": null,
   "id": "79e68f14",
   "metadata": {},
   "outputs": [],
   "source": []
  },
  {
   "cell_type": "code",
   "execution_count": 64,
   "id": "fef0dd13",
   "metadata": {},
   "outputs": [
    {
     "data": {
      "text/plain": [
       "283.93560791015625"
      ]
     },
     "execution_count": 64,
     "metadata": {},
     "output_type": "execute_result"
    }
   ],
   "source": [
    "data_json = dict(data)\n",
    "data_pd = pd.DataFrame(data, index=[0])\n",
    "prediccion = regressor.predict(data_pd)\n",
    "pred = prediccion.astype(float)\n",
    "pred"
   ]
  },
  {
   "cell_type": "code",
   "execution_count": null,
   "id": "e805de5b",
   "metadata": {},
   "outputs": [],
   "source": []
  }
 ],
 "metadata": {
  "kernelspec": {
   "display_name": "Python [conda env:dhdsblend2021] *",
   "language": "python",
   "name": "conda-env-dhdsblend2021-py"
  },
  "language_info": {
   "codemirror_mode": {
    "name": "ipython",
    "version": 3
   },
   "file_extension": ".py",
   "mimetype": "text/x-python",
   "name": "python",
   "nbconvert_exporter": "python",
   "pygments_lexer": "ipython3",
   "version": "3.8.13"
  }
 },
 "nbformat": 4,
 "nbformat_minor": 5
}
